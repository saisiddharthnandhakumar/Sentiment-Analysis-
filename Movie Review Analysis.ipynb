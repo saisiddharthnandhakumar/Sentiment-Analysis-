{
 "cells": [
  {
   "cell_type": "markdown",
   "id": "d7167630-a276-4ba2-ad15-ca703df6194c",
   "metadata": {},
   "source": [
    "# Sentiment Analysis and Prediction in Python\n",
    "\n"
   ]
  },
  {
   "cell_type": "code",
   "execution_count": 1,
   "id": "dc72d9f6-8eb1-4fab-a9b4-ff52a14cbe4d",
   "metadata": {
    "executionTime": 10284,
    "lastSuccessfullyExecutedCode": "%%capture\n!pip install wordcloud\n"
   },
   "outputs": [],
   "source": [
    "%%capture\n",
    "!pip install wordcloud\n"
   ]
  },
  {
   "cell_type": "code",
   "execution_count": 2,
   "id": "f6ebe4fe-88d0-46b3-8386-919ea22043b3",
   "metadata": {
    "executionTime": 3657,
    "lastSuccessfullyExecutedCode": "# Import libraries\nimport pandas as pd\nimport numpy as np\nimport matplotlib.pyplot as plt\nfrom wordcloud import WordCloud\nfrom sklearn.feature_extraction.text import TfidfVectorizer, ENGLISH_STOP_WORDS\nfrom sklearn.model_selection import train_test_split\nfrom sklearn.ensemble import RandomForestClassifier\nfrom sklearn.metrics import classification_report, ConfusionMatrixDisplay\n\n# Load data as a DataFrame\ndf = pd.read_csv(\"movie_reviews.csv\")\n\n# Preview the data\ndf.sample(3)"
   },
   "outputs": [
    {
     "data": {
      "application/com.datacamp.data-table.v1+json": {
       "table": {
        "data": [
         {
          "index": 3213,
          "label": 1,
          "text": "This is a superb film and was immediately put in my top ten (trust me I know films!). It's one of the movies that really makes you think, not necessarily about the storyline but about yourself! The film is about a fifteen year old kid (Leland Fitzgerald)who kills an autistic boy. he is sent to juvenile hall where he meets Pearl Madison, his teacher. His relationship with Pearl slowly grows and eventually Pearl decides to write a story on Leland and his peers but as he gets closer to finding out Lelands motive he learns he must deal with his own issues first. This is a great film and a must see with great music by the pixies and a fantastic score! Watch it!"
         },
         {
          "index": 2605,
          "label": 0,
          "text": "I never thought I see a movie worse than \"Lisa Picard Is Famous\", but this came pretty close. As repeated often throughout the comments, it was predictable; five minutes into the movie you know it will be a stranded at the alter outcome. This movie painfully references/rips off everything from \"Something about Mary\" to \"Revenge of the Pink Panther\". Writer Greg Glienna (Meet the Parents) needs some new material. The only twist is the deranged boyfriend/police officer pursued by internal affairs, but even that opportunity is wasted. Lots of setting shots of the Seattle Space Needle necessary to disguise the obvious Canadian shooting locale. Some of the worst driving in the car scenes with almost no effort to disguise the fact that the car is being pulled through town on a trailer. Geez, at least turn the wheel or put the brakes on once in a while. Selma Blair is inert and the short haircut a crime. $3M to Jason Lee, for what? Guess it beats skateboarding! So here's who should see this movie: Bee Gees fans who want to hear two actors sing 'Islands in the Stream' badly; People who can't get enough of Julia Stiles. 1/10"
         },
         {
          "index": 3971,
          "label": 1,
          "text": "I first saw this movie at a premiere-party in Mr. Zwarts hometown Fredrikstad. There, between directors, musicians and other Norwegian celebrities I laughed and laughed... I just couldn't stop. If you like a comedy with black humor, sharp lines and excellent acting - this is one flick you HAVE to see! It's like mixing \"True Romance\" with \"The Wedding Singer\" and add a dash of \"Mad about you\" Hilarios! 10 Points!"
         }
        ],
        "schema": {
         "fields": [
          {
           "name": "index",
           "type": "integer"
          },
          {
           "name": "text",
           "type": "string"
          },
          {
           "name": "label",
           "type": "integer"
          }
         ],
         "pandas_version": "1.4.0",
         "primaryKey": [
          "index"
         ]
        }
       },
       "total_rows": 3,
       "truncation_type": null
      },
      "text/html": [
       "<div>\n",
       "<style scoped>\n",
       "    .dataframe tbody tr th:only-of-type {\n",
       "        vertical-align: middle;\n",
       "    }\n",
       "\n",
       "    .dataframe tbody tr th {\n",
       "        vertical-align: top;\n",
       "    }\n",
       "\n",
       "    .dataframe thead th {\n",
       "        text-align: right;\n",
       "    }\n",
       "</style>\n",
       "<table border=\"1\" class=\"dataframe\">\n",
       "  <thead>\n",
       "    <tr style=\"text-align: right;\">\n",
       "      <th></th>\n",
       "      <th>text</th>\n",
       "      <th>label</th>\n",
       "    </tr>\n",
       "  </thead>\n",
       "  <tbody>\n",
       "    <tr>\n",
       "      <th>3213</th>\n",
       "      <td>This is a superb film and was immediately put ...</td>\n",
       "      <td>1</td>\n",
       "    </tr>\n",
       "    <tr>\n",
       "      <th>2605</th>\n",
       "      <td>I never thought I see a movie worse than \"Lisa...</td>\n",
       "      <td>0</td>\n",
       "    </tr>\n",
       "    <tr>\n",
       "      <th>3971</th>\n",
       "      <td>I first saw this movie at a premiere-party in ...</td>\n",
       "      <td>1</td>\n",
       "    </tr>\n",
       "  </tbody>\n",
       "</table>\n",
       "</div>"
      ],
      "text/plain": [
       "                                                   text  label\n",
       "3213  This is a superb film and was immediately put ...      1\n",
       "2605  I never thought I see a movie worse than \"Lisa...      0\n",
       "3971  I first saw this movie at a premiere-party in ...      1"
      ]
     },
     "execution_count": 2,
     "metadata": {},
     "output_type": "execute_result"
    }
   ],
   "source": [
    "# Import libraries\n",
    "import pandas as pd\n",
    "import numpy as np\n",
    "import matplotlib.pyplot as plt\n",
    "from wordcloud import WordCloud\n",
    "from sklearn.feature_extraction.text import TfidfVectorizer, ENGLISH_STOP_WORDS\n",
    "from sklearn.model_selection import train_test_split\n",
    "from sklearn.ensemble import RandomForestClassifier\n",
    "from sklearn.metrics import classification_report, ConfusionMatrixDisplay\n",
    "\n",
    "# Load data as a DataFrame\n",
    "df = pd.read_csv(\"movie_reviews.csv\")\n",
    "\n",
    "# Preview the data\n",
    "df.sample(3)"
   ]
  },
  {
   "cell_type": "code",
   "execution_count": 3,
   "id": "1c43ec16-3fcc-4e07-a7ce-59151363303a",
   "metadata": {
    "executionTime": 91,
    "lastSuccessfullyExecutedCode": "df.shape"
   },
   "outputs": [
    {
     "data": {
      "text/plain": [
       "(4000, 2)"
      ]
     },
     "execution_count": 3,
     "metadata": {},
     "output_type": "execute_result"
    }
   ],
   "source": [
    "df.shape"
   ]
  },
  {
   "cell_type": "markdown",
   "id": "e5e573e1-23c5-4a30-a3ed-b03e754303ff",
   "metadata": {},
   "source": [
    "## Explore our data\n"
   ]
  },
  {
   "cell_type": "code",
   "execution_count": 4,
   "id": "59d451e4-7579-47f3-b9d2-03308131f95d",
   "metadata": {
    "executionTime": 282,
    "lastSuccessfullyExecutedCode": "# Inspect the data types and non-null rows\ndf.info()"
   },
   "outputs": [
    {
     "name": "stdout",
     "output_type": "stream",
     "text": [
      "<class 'pandas.core.frame.DataFrame'>\n",
      "RangeIndex: 4000 entries, 0 to 3999\n",
      "Data columns (total 2 columns):\n",
      " #   Column  Non-Null Count  Dtype \n",
      "---  ------  --------------  ----- \n",
      " 0   text    4000 non-null   object\n",
      " 1   label   4000 non-null   int64 \n",
      "dtypes: int64(1), object(1)\n",
      "memory usage: 62.6+ KB\n"
     ]
    }
   ],
   "source": [
    "# Inspect the data types and non-null rows\n",
    "df.info()"
   ]
  },
  {
   "cell_type": "code",
   "execution_count": 5,
   "id": "2dc97864-8ba4-4df3-bfb5-b8bbb329e468",
   "metadata": {
    "executionTime": 88,
    "lastSuccessfullyExecutedCode": "# Check the value counts of the sentiment label\ndf[\"label\"].value_counts(normalize=True)"
   },
   "outputs": [
    {
     "data": {
      "text/plain": [
       "0    0.5085\n",
       "1    0.4915\n",
       "Name: label, dtype: float64"
      ]
     },
     "execution_count": 5,
     "metadata": {},
     "output_type": "execute_result"
    }
   ],
   "source": [
    "# Check the value counts of the sentiment label\n",
    "df[\"label\"].value_counts(normalize=True)"
   ]
  },
  {
   "cell_type": "code",
   "execution_count": 6,
   "id": "42187a0e-337d-4e21-b8ed-560d3b10064e",
   "metadata": {
    "executionTime": 2934,
    "lastSuccessfullyExecutedCode": "# Concatenate the text review data\nreviews = \" \".join(df[\"text\"])\n\n# Create the word cloud image\nword_cloud = WordCloud(background_color=\"white\",\n                       stopwords=ENGLISH_STOP_WORDS,\n                       width=800,\n                       height=400\n                      )\n\n# Generate the word cloud using the review data\nword_cloud.generate(reviews)\n\n# Display the word cloud\nplt.rcParams[\"figure.figsize\"] = (12, 8)\nplt.imshow(word_cloud, interpolation=\"bilinear\")\nplt.axis(\"off\")\nplt.show()"
   },
   "outputs": [
    {
     "data": {
      "image/png": "[encoded data removed]",
      "text/plain": [
       "<Figure size 1200x800 with 1 Axes>"
      ]
     },
     "metadata": {},
     "output_type": "display_data"
    }
   ],
   "source": [
    "# Concatenate the text review data\n",
    "reviews = \" \".join(df[\"text\"])\n",
    "\n",
    "# Create the word cloud image\n",
    "word_cloud = WordCloud(background_color=\"white\",\n",
    "                       stopwords=ENGLISH_STOP_WORDS,\n",
    "                       width=800,\n",
    "                       height=400\n",
    "                      )\n",
    "\n",
    "# Generate the word cloud using the review data\n",
    "word_cloud.generate(reviews)\n",
    "\n",
    "# Display the word cloud\n",
    "plt.rcParams[\"figure.figsize\"] = (12, 8)\n",
    "plt.imshow(word_cloud, interpolation=\"bilinear\")\n",
    "plt.axis(\"off\")\n",
    "plt.show()"
   ]
  },
  {
   "cell_type": "code",
   "execution_count": 7,
   "id": "60288fd8-18d5-4e30-a3e1-51fc4c4c37b3",
   "metadata": {
    "executionTime": 0,
    "lastSuccessfullyExecutedCode": "ENGLISH_STOP_WORDS"
   },
   "outputs": [
    {
     "data": {
      "text/plain": [
       "frozenset({'a',\n",
       "           'about',\n",
       "           'above',\n",
       "           'across',\n",
       "           'after',\n",
       "           'afterwards',\n",
       "           'again',\n",
       "           'against',\n",
       "           'all',\n",
       "           'almost',\n",
       "           'alone',\n",
       "           'along',\n",
       "           'already',\n",
       "           'also',\n",
       "           'although',\n",
       "           'always',\n",
       "           'am',\n",
       "           'among',\n",
       "           'amongst',\n",
       "           'amoungst',\n",
       "           'amount',\n",
       "           'an',\n",
       "           'and',\n",
       "           'another',\n",
       "           'any',\n",
       "           'anyhow',\n",
       "           'anyone',\n",
       "           'anything',\n",
       "           'anyway',\n",
       "           'anywhere',\n",
       "           'are',\n",
       "           'around',\n",
       "           'as',\n",
       "           'at',\n",
       "           'back',\n",
       "           'be',\n",
       "           'became',\n",
       "           'because',\n",
       "           'become',\n",
       "           'becomes',\n",
       "           'becoming',\n",
       "           'been',\n",
       "           'before',\n",
       "           'beforehand',\n",
       "           'behind',\n",
       "           'being',\n",
       "           'below',\n",
       "           'beside',\n",
       "           'besides',\n",
       "           'between',\n",
       "           'beyond',\n",
       "           'bill',\n",
       "           'both',\n",
       "           'bottom',\n",
       "           'but',\n",
       "           'by',\n",
       "           'call',\n",
       "           'can',\n",
       "           'cannot',\n",
       "           'cant',\n",
       "           'co',\n",
       "           'con',\n",
       "           'could',\n",
       "           'couldnt',\n",
       "           'cry',\n",
       "           'de',\n",
       "           'describe',\n",
       "           'detail',\n",
       "           'do',\n",
       "           'done',\n",
       "           'down',\n",
       "           'due',\n",
       "           'during',\n",
       "           'each',\n",
       "           'eg',\n",
       "           'eight',\n",
       "           'either',\n",
       "           'eleven',\n",
       "           'else',\n",
       "           'elsewhere',\n",
       "           'empty',\n",
       "           'enough',\n",
       "           'etc',\n",
       "           'even',\n",
       "           'ever',\n",
       "           'every',\n",
       "           'everyone',\n",
       "           'everything',\n",
       "           'everywhere',\n",
       "           'except',\n",
       "           'few',\n",
       "           'fifteen',\n",
       "           'fifty',\n",
       "           'fill',\n",
       "           'find',\n",
       "           'fire',\n",
       "           'first',\n",
       "           'five',\n",
       "           'for',\n",
       "           'former',\n",
       "           'formerly',\n",
       "           'forty',\n",
       "           'found',\n",
       "           'four',\n",
       "           'from',\n",
       "           'front',\n",
       "           'full',\n",
       "           'further',\n",
       "           'get',\n",
       "           'give',\n",
       "           'go',\n",
       "           'had',\n",
       "           'has',\n",
       "           'hasnt',\n",
       "           'have',\n",
       "           'he',\n",
       "           'hence',\n",
       "           'her',\n",
       "           'here',\n",
       "           'hereafter',\n",
       "           'hereby',\n",
       "           'herein',\n",
       "           'hereupon',\n",
       "           'hers',\n",
       "           'herself',\n",
       "           'him',\n",
       "           'himself',\n",
       "           'his',\n",
       "           'how',\n",
       "           'however',\n",
       "           'hundred',\n",
       "           'i',\n",
       "           'ie',\n",
       "           'if',\n",
       "           'in',\n",
       "           'inc',\n",
       "           'indeed',\n",
       "           'interest',\n",
       "           'into',\n",
       "           'is',\n",
       "           'it',\n",
       "           'its',\n",
       "           'itself',\n",
       "           'keep',\n",
       "           'last',\n",
       "           'latter',\n",
       "           'latterly',\n",
       "           'least',\n",
       "           'less',\n",
       "           'ltd',\n",
       "           'made',\n",
       "           'many',\n",
       "           'may',\n",
       "           'me',\n",
       "           'meanwhile',\n",
       "           'might',\n",
       "           'mill',\n",
       "           'mine',\n",
       "           'more',\n",
       "           'moreover',\n",
       "           'most',\n",
       "           'mostly',\n",
       "           'move',\n",
       "           'much',\n",
       "           'must',\n",
       "           'my',\n",
       "           'myself',\n",
       "           'name',\n",
       "           'namely',\n",
       "           'neither',\n",
       "           'never',\n",
       "           'nevertheless',\n",
       "           'next',\n",
       "           'nine',\n",
       "           'no',\n",
       "           'nobody',\n",
       "           'none',\n",
       "           'noone',\n",
       "           'nor',\n",
       "           'not',\n",
       "           'nothing',\n",
       "           'now',\n",
       "           'nowhere',\n",
       "           'of',\n",
       "           'off',\n",
       "           'often',\n",
       "           'on',\n",
       "           'once',\n",
       "           'one',\n",
       "           'only',\n",
       "           'onto',\n",
       "           'or',\n",
       "           'other',\n",
       "           'others',\n",
       "           'otherwise',\n",
       "           'our',\n",
       "           'ours',\n",
       "           'ourselves',\n",
       "           'out',\n",
       "           'over',\n",
       "           'own',\n",
       "           'part',\n",
       "           'per',\n",
       "           'perhaps',\n",
       "           'please',\n",
       "           'put',\n",
       "           'rather',\n",
       "           're',\n",
       "           'same',\n",
       "           'see',\n",
       "           'seem',\n",
       "           'seemed',\n",
       "           'seeming',\n",
       "           'seems',\n",
       "           'serious',\n",
       "           'several',\n",
       "           'she',\n",
       "           'should',\n",
       "           'show',\n",
       "           'side',\n",
       "           'since',\n",
       "           'sincere',\n",
       "           'six',\n",
       "           'sixty',\n",
       "           'so',\n",
       "           'some',\n",
       "           'somehow',\n",
       "           'someone',\n",
       "           'something',\n",
       "           'sometime',\n",
       "           'sometimes',\n",
       "           'somewhere',\n",
       "           'still',\n",
       "           'such',\n",
       "           'system',\n",
       "           'take',\n",
       "           'ten',\n",
       "           'than',\n",
       "           'that',\n",
       "           'the',\n",
       "           'their',\n",
       "           'them',\n",
       "           'themselves',\n",
       "           'then',\n",
       "           'thence',\n",
       "           'there',\n",
       "           'thereafter',\n",
       "           'thereby',\n",
       "           'therefore',\n",
       "           'therein',\n",
       "           'thereupon',\n",
       "           'these',\n",
       "           'they',\n",
       "           'thick',\n",
       "           'thin',\n",
       "           'third',\n",
       "           'this',\n",
       "           'those',\n",
       "           'though',\n",
       "           'three',\n",
       "           'through',\n",
       "           'throughout',\n",
       "           'thru',\n",
       "           'thus',\n",
       "           'to',\n",
       "           'together',\n",
       "           'too',\n",
       "           'top',\n",
       "           'toward',\n",
       "           'towards',\n",
       "           'twelve',\n",
       "           'twenty',\n",
       "           'two',\n",
       "           'un',\n",
       "           'under',\n",
       "           'until',\n",
       "           'up',\n",
       "           'upon',\n",
       "           'us',\n",
       "           'very',\n",
       "           'via',\n",
       "           'was',\n",
       "           'we',\n",
       "           'well',\n",
       "           'were',\n",
       "           'what',\n",
       "           'whatever',\n",
       "           'when',\n",
       "           'whence',\n",
       "           'whenever',\n",
       "           'where',\n",
       "           'whereafter',\n",
       "           'whereas',\n",
       "           'whereby',\n",
       "           'wherein',\n",
       "           'whereupon',\n",
       "           'wherever',\n",
       "           'whether',\n",
       "           'which',\n",
       "           'while',\n",
       "           'whither',\n",
       "           'who',\n",
       "           'whoever',\n",
       "           'whole',\n",
       "           'whom',\n",
       "           'whose',\n",
       "           'why',\n",
       "           'will',\n",
       "           'with',\n",
       "           'within',\n",
       "           'without',\n",
       "           'would',\n",
       "           'yet',\n",
       "           'you',\n",
       "           'your',\n",
       "           'yours',\n",
       "           'yourself',\n",
       "           'yourselves'})"
      ]
     },
     "execution_count": 7,
     "metadata": {},
     "output_type": "execute_result"
    }
   ],
   "source": [
    "ENGLISH_STOP_WORDS"
   ]
  },
  {
   "cell_type": "markdown",
   "id": "fe61d775-c8d8-45b7-804b-f9021cf9d0be",
   "metadata": {},
   "source": [
    "## Pre-processing the review text\n",
    "To pre-process the text, we will use the term frequency-inverse document frequency, or TfIdf. TfIdf is a way of calculating the importance of words in a collection of different sets of text (or documents).\n",
    "TfIdf has the advantages of:\n",
    "\n",
    "- Highlighting words that are common within a document but not across documents.\n",
    "- Returning low scores for words common across all reviews (e.g., movie in movie reviews).\n",
    "- Penalizing frequent words so we don't need to worry about stop words as much.\n",
    "\n",
    "Fortunately, Scikit-Learn has a [`TfidfVectorizer`](https://scikit-learn.org/stable/modules/generated/sklearn.feature_extraction.text.TfidfVectorizer.html) class that can convert text data into a set of TfIdf features."
   ]
  },
  {
   "cell_type": "code",
   "execution_count": 14,
   "id": "224e6ae7-3e77-4daa-9102-82c71076fe71",
   "metadata": {
    "executionTime": 2381,
    "lastSuccessfullyExecutedCode": "# Specify the word pattern\npattern = r\"[a-zA-Z]+\"\n\n# Build the vectorizer and fit to the text data\nvect = TfidfVectorizer(\n\ttoken_pattern=pattern,\n    stop_words=ENGLISH_STOP_WORDS,\n    ngram_range=(1, 2),\n    max_features=500\n)\n\nvect.fit(df[\"text\"])\n\n# Create sparse matrix from the vectorizer\ntokenized_features = vect.transform(df[\"text\"])\n\n# Create a DataFrame of the new features\nfeatures = pd.DataFrame(data=tokenized_features.toarray(), columns=vect.get_feature_names_out())\n\nfeatures.columns\n"
   },
   "outputs": [
    {
     "data": {
      "text/plain": [
       "Index(['able', 'absolutely', 'act', 'acting', 'action', 'actor', 'actors',\n",
       "       'actress', 'actually', 'add',\n",
       "       ...\n",
       "       'wouldn t', 'writer', 'writing', 'written', 'wrong', 'year', 'year old',\n",
       "       'years', 'yes', 'young'],\n",
       "      dtype='object', length=500)"
      ]
     },
     "execution_count": 14,
     "metadata": {},
     "output_type": "execute_result"
    }
   ],
   "source": [
    "# Specify the word pattern\n",
    "pattern = r\"[a-zA-Z]+\"\n",
    "\n",
    "# Build the vectorizer and fit to the text data\n",
    "vect = TfidfVectorizer(\n",
    "\ttoken_pattern=pattern,\n",
    "    stop_words=ENGLISH_STOP_WORDS,\n",
    "    ngram_range=(1, 2),\n",
    "    max_features=500\n",
    ")\n",
    "\n",
    "vect.fit(df[\"text\"])\n",
    "\n",
    "# Create sparse matrix from the vectorizer\n",
    "tokenized_features = vect.transform(df[\"text\"])\n",
    "\n",
    "# Create a DataFrame of the new features\n",
    "features = pd.DataFrame(data=tokenized_features.toarray(), columns=vect.get_feature_names_out())\n",
    "\n",
    "features.columns\n"
   ]
  },
  {
   "cell_type": "code",
   "execution_count": 15,
   "id": "52ef4770-9749-446f-8aed-c674d3eb8b66",
   "metadata": {
    "executionTime": 730,
    "lastSuccessfullyExecutedCode": "# Generate a number of different length metrics based on the text\ndf[\"char_count\"] = df[\"text\"].str.count(r\"\\S\")\ndf[\"word_count\"] = df[\"text\"].str.count(pattern)\ndf[\"avg_word_length\"] = df[\"char_count\"] / df[\"word_count\"]\n\n# Preview our new columns\ndf.sample(3)"
   },
   "outputs": [
    {
     "data": {
      "application/com.datacamp.data-table.v1+json": {
       "table": {
        "data": [
         {
          "avg_word_length": 4.0495049505,
          "char_count": 409,
          "index": 2917,
          "label": 0,
          "text": "If you want to enjoy the money you would spend to rent this money, go buy a bag of ice and watch it melt. That's more entertaining than this movie.  Bill Cowell, shame on you.  Or if you wanna see this movie plot, go in a corn field, bring two of the most annoying little girls you can find, run around for a couple hours having the girls scream as loud as possible. Then send me the couple bucks you woulda spent. I enjoyed the first Dark Harvest, after watching the sequel, I'm going to cry myself to sleep.",
          "word_count": 101
         },
         {
          "avg_word_length": 4.7976190476,
          "char_count": 403,
          "index": 1901,
          "label": 1,
          "text": "I found it highly interesting that the film actually managed to bridge the gap between my own american culture and that of the originators, i.e. chinese. It becomes a story about values, and causes the watcher to reevaluate their own choices in life, and loyalties toward institutions. Amazingly enough, it managed to do this in a gentle, mildly humorous manner, which only in retrospect seens threatening to one's status quo. I enjoyed the movie, and would watch it again if I could.",
          "word_count": 84
         },
         {
          "avg_word_length": 4.1052631579,
          "char_count": 312,
          "index": 3690,
          "label": 1,
          "text": "I have seen this film only the one time about 25 years ago, and to this day I have always told people it is probably the best film I have ever seen. Considering there was no verbal dialogue and only thought dialogue i found the film to be enthralling and I even found myself holding my breath so as not to make any sound. I would highly recomend this film, I wish it was available on DVD.",
          "word_count": 76
         }
        ],
        "schema": {
         "fields": [
          {
           "name": "index",
           "type": "integer"
          },
          {
           "name": "text",
           "type": "string"
          },
          {
           "name": "label",
           "type": "integer"
          },
          {
           "name": "char_count",
           "type": "integer"
          },
          {
           "name": "word_count",
           "type": "integer"
          },
          {
           "name": "avg_word_length",
           "type": "number"
          }
         ],
         "pandas_version": "1.4.0",
         "primaryKey": [
          "index"
         ]
        }
       },
       "total_rows": 3,
       "truncation_type": null
      },
      "text/html": [
       "<div>\n",
       "<style scoped>\n",
       "    .dataframe tbody tr th:only-of-type {\n",
       "        vertical-align: middle;\n",
       "    }\n",
       "\n",
       "    .dataframe tbody tr th {\n",
       "        vertical-align: top;\n",
       "    }\n",
       "\n",
       "    .dataframe thead th {\n",
       "        text-align: right;\n",
       "    }\n",
       "</style>\n",
       "<table border=\"1\" class=\"dataframe\">\n",
       "  <thead>\n",
       "    <tr style=\"text-align: right;\">\n",
       "      <th></th>\n",
       "      <th>text</th>\n",
       "      <th>label</th>\n",
       "      <th>char_count</th>\n",
       "      <th>word_count</th>\n",
       "      <th>avg_word_length</th>\n",
       "    </tr>\n",
       "  </thead>\n",
       "  <tbody>\n",
       "    <tr>\n",
       "      <th>2917</th>\n",
       "      <td>If you want to enjoy the money you would spend...</td>\n",
       "      <td>0</td>\n",
       "      <td>409</td>\n",
       "      <td>101</td>\n",
       "      <td>4.049505</td>\n",
       "    </tr>\n",
       "    <tr>\n",
       "      <th>1901</th>\n",
       "      <td>I found it highly interesting that the film ac...</td>\n",
       "      <td>1</td>\n",
       "      <td>403</td>\n",
       "      <td>84</td>\n",
       "      <td>4.797619</td>\n",
       "    </tr>\n",
       "    <tr>\n",
       "      <th>3690</th>\n",
       "      <td>I have seen this film only the one time about ...</td>\n",
       "      <td>1</td>\n",
       "      <td>312</td>\n",
       "      <td>76</td>\n",
       "      <td>4.105263</td>\n",
       "    </tr>\n",
       "  </tbody>\n",
       "</table>\n",
       "</div>"
      ],
      "text/plain": [
       "                                                   text  ...  avg_word_length\n",
       "2917  If you want to enjoy the money you would spend...  ...         4.049505\n",
       "1901  I found it highly interesting that the film ac...  ...         4.797619\n",
       "3690  I have seen this film only the one time about ...  ...         4.105263\n",
       "\n",
       "[3 rows x 5 columns]"
      ]
     },
     "execution_count": 15,
     "metadata": {},
     "output_type": "execute_result"
    }
   ],
   "source": [
    "# Generate a number of different length metrics based on the text\n",
    "df[\"char_count\"] = df[\"text\"].str.count(r\"\\S\")\n",
    "df[\"word_count\"] = df[\"text\"].str.count(pattern)\n",
    "df[\"avg_word_length\"] = df[\"char_count\"] / df[\"word_count\"]\n",
    "\n",
    "# Preview our new columns\n",
    "df.sample(3)"
   ]
  },
  {
   "cell_type": "markdown",
   "id": "e9a0efa5-06d6-4a09-8d23-94db862982e9",
   "metadata": {},
   "source": [
    "## Fitting a model and evaluating its performance"
   ]
  },
  {
   "cell_type": "code",
   "execution_count": 10,
   "id": "dd04e700-cf95-471a-a7ad-98efd8ece142",
   "metadata": {
    "executionTime": 1334,
    "lastSuccessfullyExecutedCode": "# Define X and y\nX = pd.concat([features, df.loc[:, \"char_count\":]], axis=1)\ny = df[\"label\"]\n\n# Train/test split\nX_train, X_test, y_train, y_test = train_test_split(\n\tX,\n    y,\n    test_size=0.25,\n    random_state=42\n)\n\n# Train a random forest classifier\nrf = RandomForestClassifier(random_state=42).fit(X_train, y_train)\n\n# Predict the labels\ny_pred = rf.predict(X_test)\n\n# Print classification metrics\nprint(classification_report(y_test, y_pred))"
   },
   "outputs": [
    {
     "name": "stdout",
     "output_type": "stream",
     "text": [
      "              precision    recall  f1-score   support\n",
      "\n",
      "           0       0.81      0.77      0.79       523\n",
      "           1       0.76      0.80      0.78       477\n",
      "\n",
      "    accuracy                           0.79      1000\n",
      "   macro avg       0.79      0.79      0.78      1000\n",
      "weighted avg       0.79      0.79      0.79      1000\n",
      "\n"
     ]
    }
   ],
   "source": [
    "# Define X and y\n",
    "X = pd.concat([features, df.loc[:, \"char_count\":]], axis=1)\n",
    "y = df[\"label\"]\n",
    "\n",
    "# Train/test split\n",
    "X_train, X_test, y_train, y_test = train_test_split(\n",
    "\tX,\n",
    "    y,\n",
    "    test_size=0.25,\n",
    "    random_state=42\n",
    ")\n",
    "\n",
    "# Train a random forest classifier\n",
    "rf = RandomForestClassifier(random_state=42).fit(X_train, y_train)\n",
    "\n",
    "# Predict the labels\n",
    "y_pred = rf.predict(X_test)\n",
    "\n",
    "# Print classification metrics\n",
    "print(classification_report(y_test, y_pred))"
   ]
  },
  {
   "cell_type": "code",
   "execution_count": 11,
   "id": "b4276234-1bfc-416c-92e6-7a80f241c631",
   "metadata": {
    "executionTime": 231,
    "lastSuccessfullyExecutedCode": "# Print a confusion matrix for the model\nConfusionMatrixDisplay.from_estimator(rf, X_test, y_test, normalize=\"all\")\nplt.title(\"Confusion Matrix\")\nplt.show()\n\n# Testing saving"
   },
   "outputs": [
    {
     "data": {
      "image/png": "[encoded data removed]",
      "text/plain": [
       "<Figure size 1200x800 with 2 Axes>"
      ]
     },
     "metadata": {},
     "output_type": "display_data"
    }
   ],
   "source": [
    "# Print a confusion matrix for the model\n",
    "ConfusionMatrixDisplay.from_estimator(rf, X_test, y_test, normalize=\"all\")\n",
    "plt.title(\"Confusion Matrix\")\n",
    "plt.show()\n",
    "\n",
    "# Testing saving"
   ]
  },
  {
   "cell_type": "code",
   "execution_count": 12,
   "id": "c46c97d4-5504-4650-9c57-c8bc60df8f7f",
   "metadata": {
    "chartConfig": {
     "bar": {
      "hasRoundedCorners": true,
      "stacked": false
     },
     "type": "line",
     "version": "v1"
    },
    "executionTime": 156,
    "lastSuccessfullyExecutedCode": "# Create a DataFrame of the features and their importances\npd.DataFrame(\n\t{\"feature\": X.columns, \"importance\": rf.feature_importances_}\n).sort_values(by=\"importance\", ascending=False)",
    "visualizeDataframe": false
   },
   "outputs": [
    {
     "data": {
      "application/com.datacamp.data-table.v1+json": {
       "table": {
        "data": [
         {
          "feature": "bad",
          "importance": 0.0450448072,
          "index": 27
         },
         {
          "feature": "worst",
          "importance": 0.0311629593,
          "index": 487
         },
         {
          "feature": "great",
          "importance": 0.0215623864,
          "index": 174
         },
         {
          "feature": "t",
          "importance": 0.0161110133,
          "index": 415
         },
         {
          "feature": "awful",
          "importance": 0.0151655016,
          "index": 25
         },
         {
          "feature": "waste",
          "importance": 0.0134139093,
          "index": 467
         },
         {
          "feature": "best",
          "importance": 0.0122330845,
          "index": 33
         },
         {
          "feature": "excellent",
          "importance": 0.0110483293,
          "index": 129
         },
         {
          "feature": "movie",
          "importance": 0.010559809,
          "index": 282
         },
         {
          "feature": "boring",
          "importance": 0.0099499142,
          "index": 40
         },
         {
          "feature": "stupid",
          "importance": 0.0099324013,
          "index": 410
         },
         {
          "feature": "avg_word_length",
          "importance": 0.0097628606,
          "index": 502
         },
         {
          "feature": "terrible",
          "importance": 0.0096313114,
          "index": 423
         },
         {
          "feature": "just",
          "importance": 0.0096102148,
          "index": 222
         },
         {
          "feature": "char_count",
          "importance": 0.0082487677,
          "index": 500
         },
         {
          "feature": "plot",
          "importance": 0.0080435099,
          "index": 322
         },
         {
          "feature": "love",
          "importance": 0.0076899995,
          "index": 259
         },
         {
          "feature": "word_count",
          "importance": 0.0076480666,
          "index": 501
         },
         {
          "feature": "worse",
          "importance": 0.0072790486,
          "index": 486
         },
         {
          "feature": "minutes",
          "importance": 0.0072611622,
          "index": 277
         },
         {
          "feature": "s",
          "importance": 0.006981494,
          "index": 354
         },
         {
          "feature": "instead",
          "importance": 0.0067192167,
          "index": 212
         },
         {
          "feature": "poor",
          "importance": 0.0066616344,
          "index": 325
         },
         {
          "feature": "like",
          "importance": 0.0065484826,
          "index": 242
         },
         {
          "feature": "film",
          "importance": 0.0059487539,
          "index": 148
         },
         {
          "feature": "money",
          "importance": 0.0056023305,
          "index": 280
         },
         {
          "feature": "thing",
          "importance": 0.0055720756,
          "index": 424
         },
         {
          "feature": "wonderful",
          "importance": 0.0053526664,
          "index": 481
         },
         {
          "feature": "supposed",
          "importance": 0.0053247038,
          "index": 412
         },
         {
          "feature": "avoid",
          "importance": 0.0052315511,
          "index": 23
         },
         {
          "feature": "good",
          "importance": 0.0047228983,
          "index": 172
         },
         {
          "feature": "life",
          "importance": 0.0045557859,
          "index": 240
         },
         {
          "feature": "world",
          "importance": 0.0043682764,
          "index": 485
         },
         {
          "feature": "acting",
          "importance": 0.0042961036,
          "index": 3
         },
         {
          "feature": "loved",
          "importance": 0.0039677668,
          "index": 260
         },
         {
          "feature": "script",
          "importance": 0.0038449453,
          "index": 368
         },
         {
          "feature": "does",
          "importance": 0.0038109846,
          "index": 104
         },
         {
          "feature": "don",
          "importance": 0.0037865513,
          "index": 108
         },
         {
          "feature": "years",
          "importance": 0.0037641988,
          "index": 497
         },
         {
          "feature": "time",
          "importance": 0.0036026281,
          "index": 430
         },
         {
          "feature": "did",
          "importance": 0.0035718016,
          "index": 95
         },
         {
          "feature": "make",
          "importance": 0.003546905,
          "index": 265
         },
         {
          "feature": "little",
          "importance": 0.003503128,
          "index": 246
         },
         {
          "feature": "perfect",
          "importance": 0.0034114306,
          "index": 311
         },
         {
          "feature": "movies",
          "importance": 0.0033818462,
          "index": 284
         },
         {
          "feature": "better",
          "importance": 0.0033316184,
          "index": 34
         },
         {
          "feature": "amazing",
          "importance": 0.0033128885,
          "index": 12
         },
         {
          "feature": "actors",
          "importance": 0.0033027341,
          "index": 6
         },
         {
          "feature": "don t",
          "importance": 0.003275116,
          "index": 109
         },
         {
          "feature": "films",
          "importance": 0.0032448505,
          "index": 150
         },
         {
          "feature": "horrible",
          "importance": 0.0031952484,
          "index": 200
         },
         {
          "feature": "didn t",
          "importance": 0.0031805434,
          "index": 97
         },
         {
          "feature": "doesn t",
          "importance": 0.0031719012,
          "index": 106
         },
         {
          "feature": "really",
          "importance": 0.0031633209,
          "index": 338
         },
         {
          "feature": "think",
          "importance": 0.0031281731,
          "index": 426
         },
         {
          "feature": "half",
          "importance": 0.0030707685,
          "index": 179
         },
         {
          "feature": "know",
          "importance": 0.003060042,
          "index": 230
         },
         {
          "feature": "watch",
          "importance": 0.0029832709,
          "index": 468
         },
         {
          "feature": "definitely",
          "importance": 0.0029789997,
          "index": 91
         },
         {
          "feature": "ridiculous",
          "importance": 0.0029547836,
          "index": 346
         },
         {
          "feature": "story",
          "importance": 0.0029442293,
          "index": 406
         },
         {
          "feature": "pretty",
          "importance": 0.0028922171,
          "index": 328
         },
         {
          "feature": "way",
          "importance": 0.0028705853,
          "index": 471
         },
         {
          "feature": "idea",
          "importance": 0.0028544064,
          "index": 209
         },
         {
          "feature": "doesn",
          "importance": 0.0028514659,
          "index": 105
         },
         {
          "feature": "young",
          "importance": 0.0027766994,
          "index": 499
         },
         {
          "feature": "didn",
          "importance": 0.0027569027,
          "index": 96
         },
         {
          "feature": "actually",
          "importance": 0.002727002,
          "index": 8
         },
         {
          "feature": "seen",
          "importance": 0.0027226999,
          "index": 371
         },
         {
          "feature": "characters",
          "importance": 0.0027221439,
          "index": 58
         },
         {
          "feature": "going",
          "importance": 0.0027182353,
          "index": 171
         },
         {
          "feature": "people",
          "importance": 0.0026197428,
          "index": 310
         },
         {
          "feature": "isn t",
          "importance": 0.0026097916,
          "index": 216
         },
         {
          "feature": "reason",
          "importance": 0.002601143,
          "index": 339
         },
         {
          "feature": "say",
          "importance": 0.0025977529,
          "index": 359
         },
         {
          "feature": "man",
          "importance": 0.0025887214,
          "index": 268
         },
         {
          "feature": "makes",
          "importance": 0.0025389293,
          "index": 266
         },
         {
          "feature": "budget",
          "importance": 0.0024837546,
          "index": 45
         },
         {
          "feature": "director",
          "importance": 0.0024763753,
          "index": 101
         },
         {
          "feature": "fun",
          "importance": 0.0024729787,
          "index": 158
         },
         {
          "feature": "brilliant",
          "importance": 0.0024322879,
          "index": 42
         },
         {
          "feature": "guy",
          "importance": 0.0024288068,
          "index": 177
         },
         {
          "feature": "watching",
          "importance": 0.0024271083,
          "index": 470
         },
         {
          "feature": "beautiful",
          "importance": 0.0024252663,
          "index": 30
         },
         {
          "feature": "save",
          "importance": 0.0024203815,
          "index": 357
         },
         {
          "feature": "real",
          "importance": 0.0023934048,
          "index": 336
         },
         {
          "feature": "today",
          "importance": 0.002383894,
          "index": 433
         },
         {
          "feature": "funny",
          "importance": 0.0023781847,
          "index": 159
         },
         {
          "feature": "old",
          "importance": 0.0023441231,
          "index": 301
         },
         {
          "feature": "true",
          "importance": 0.0023356069,
          "index": 439
         },
         {
          "feature": "shows",
          "importance": 0.0023261218,
          "index": 383
         },
         {
          "feature": "enjoyed",
          "importance": 0.0023148966,
          "index": 119
         },
         {
          "feature": "performances",
          "importance": 0.0022939008,
          "index": 313
         },
         {
          "feature": "problem",
          "importance": 0.0022912979,
          "index": 330
         },
         {
          "feature": "maybe",
          "importance": 0.0022819123,
          "index": 270
         },
         {
          "feature": "far",
          "importance": 0.0022733235,
          "index": 139
         },
         {
          "feature": "new",
          "importance": 0.0022729771,
          "index": 291
         },
         {
          "feature": "trying",
          "importance": 0.0022599453,
          "index": 442
         },
         {
          "feature": "highly",
          "importance": 0.0022567808,
          "index": 193
         },
         {
          "feature": "obvious",
          "importance": 0.0022553874,
          "index": 297
         },
         {
          "feature": "ve",
          "importance": 0.0022508408,
          "index": 453
         },
         {
          "feature": "hour",
          "importance": 0.0022398968,
          "index": 202
         },
         {
          "feature": "job",
          "importance": 0.0022292461,
          "index": 219
         },
         {
          "feature": "unfortunately",
          "importance": 0.0022174114,
          "index": 448
         },
         {
          "feature": "isn",
          "importance": 0.0021590303,
          "index": 215
         },
         {
          "feature": "cheap",
          "importance": 0.0021442437,
          "index": 59
         },
         {
          "feature": "annoying",
          "importance": 0.0021300699,
          "index": 15
         },
         {
          "feature": "women",
          "importance": 0.0021275063,
          "index": 477
         },
         {
          "feature": "quite",
          "importance": 0.0021104929,
          "index": 333
         },
         {
          "feature": "d",
          "importance": 0.0020971301,
          "index": 82
         },
         {
          "feature": "end",
          "importance": 0.0020866203,
          "index": 115
         },
         {
          "feature": "plays",
          "importance": 0.0020723681,
          "index": 321
         },
         {
          "feature": "look",
          "importance": 0.0020601994,
          "index": 253
         },
         {
          "feature": "scene",
          "importance": 0.0020476144,
          "index": 363
         },
         {
          "feature": "action",
          "importance": 0.0020446618,
          "index": 4
         },
         {
          "feature": "character",
          "importance": 0.0020364361,
          "index": 57
         },
         {
          "feature": "big",
          "importance": 0.0020306907,
          "index": 35
         },
         {
          "feature": "performance",
          "importance": 0.0020223224,
          "index": 312
         },
         {
          "feature": "things",
          "importance": 0.0020159256,
          "index": 425
         },
         {
          "feature": "want",
          "importance": 0.0019999788,
          "index": 461
         },
         {
          "feature": "come",
          "importance": 0.0019863318,
          "index": 67
         },
         {
          "feature": "bit",
          "importance": 0.0019840909,
          "index": 36
         },
         {
          "feature": "m",
          "importance": 0.0019776695,
          "index": 262
         },
         {
          "feature": "sex",
          "importance": 0.0019635705,
          "index": 378
         },
         {
          "feature": "fact",
          "importance": 0.0019616685,
          "index": 135
         },
         {
          "feature": "worth",
          "importance": 0.0019473092,
          "index": 488
         },
         {
          "feature": "oh",
          "importance": 0.0019443715,
          "index": 299
         },
         {
          "feature": "wrong",
          "importance": 0.0019399393,
          "index": 494
         },
         {
          "feature": "second",
          "importance": 0.0019242355,
          "index": 369
         },
         {
          "feature": "comedy",
          "importance": 0.0018992058,
          "index": 68
         },
         {
          "feature": "watched",
          "importance": 0.0018904752,
          "index": 469
         },
         {
          "feature": "especially",
          "importance": 0.0018799869,
          "index": 125
         },
         {
          "feature": "series",
          "importance": 0.0018732341,
          "index": 374
         },
         {
          "feature": "scenes",
          "importance": 0.0018671112,
          "index": 364
         },
         {
          "feature": "different",
          "importance": 0.0018594081,
          "index": 98
         },
         {
          "feature": "making",
          "importance": 0.0018587884,
          "index": 267
         },
         {
          "feature": "comes",
          "importance": 0.0018534161,
          "index": 69
         },
         {
          "feature": "times",
          "importance": 0.0018520955,
          "index": 431
         },
         {
          "feature": "dvd",
          "importance": 0.0018518853,
          "index": 111
         },
         {
          "feature": "looks",
          "importance": 0.0018395942,
          "index": 256
         },
         {
          "feature": "slow",
          "importance": 0.0018388605,
          "index": 388
         },
         {
          "feature": "original",
          "importance": 0.0018318468,
          "index": 305
         },
         {
          "feature": "decent",
          "importance": 0.0018286611,
          "index": 90
         },
         {
          "feature": "ok",
          "importance": 0.00182797,
          "index": 300
         },
         {
          "feature": "started",
          "importance": 0.0018018117,
          "index": 402
         },
         {
          "feature": "work",
          "importance": 0.0017965052,
          "index": 483
         },
         {
          "feature": "interesting",
          "importance": 0.00178246,
          "index": 213
         },
         {
          "feature": "let",
          "importance": 0.0017805051,
          "index": 239
         },
         {
          "feature": "played",
          "importance": 0.0017768466,
          "index": 319
         },
         {
          "feature": "lines",
          "importance": 0.0017756287,
          "index": 245
         },
         {
          "feature": "favorite",
          "importance": 0.0017749921,
          "index": 142
         },
         {
          "feature": "looking",
          "importance": 0.0017698988,
          "index": 255
         },
         {
          "feature": "lot",
          "importance": 0.0017682513,
          "index": 258
         },
         {
          "feature": "thought",
          "importance": 0.0017642957,
          "index": 428
         },
         {
          "feature": "horror",
          "importance": 0.0017638104,
          "index": 201
         },
         {
          "feature": "hard",
          "importance": 0.001763103,
          "index": 184
         },
         {
          "feature": "fan",
          "importance": 0.001762005,
          "index": 137
         },
         {
          "feature": "killer",
          "importance": 0.0017595831,
          "index": 227
         },
         {
          "feature": "killed",
          "importance": 0.0017560798,
          "index": 226
         },
         {
          "feature": "tv",
          "importance": 0.0017447403,
          "index": 445
         },
         {
          "feature": "gets",
          "importance": 0.0017421661,
          "index": 163
         },
         {
          "feature": "couldn",
          "importance": 0.0017112368,
          "index": 75
         },
         {
          "feature": "girl",
          "importance": 0.0016995581,
          "index": 165
         },
         {
          "feature": "ll",
          "importance": 0.0016950653,
          "index": 250
         },
         {
          "feature": "strong",
          "importance": 0.0016886913,
          "index": 408
         },
         {
          "feature": "attempt",
          "importance": 0.0016814357,
          "index": 20
         },
         {
          "feature": "effects",
          "importance": 0.0016715624,
          "index": 113
         },
         {
          "feature": "obviously",
          "importance": 0.0016632484,
          "index": 298
         },
         {
          "feature": "left",
          "importance": 0.0016374036,
          "index": 238
         },
         {
          "feature": "completely",
          "importance": 0.001629365,
          "index": 73
         },
         {
          "feature": "piece",
          "importance": 0.0016253753,
          "index": 316
         },
         {
          "feature": "line",
          "importance": 0.0016231364,
          "index": 244
         },
         {
          "feature": "movie s",
          "importance": 0.0016161904,
          "index": 283
         },
         {
          "feature": "got",
          "importance": 0.0016084233,
          "index": 173
         },
         {
          "feature": "important",
          "importance": 0.0016015601,
          "index": 210
         },
         {
          "feature": "place",
          "importance": 0.0016014774,
          "index": 317
         },
         {
          "feature": "role",
          "importance": 0.0015994039,
          "index": 349
         },
         {
          "feature": "couple",
          "importance": 0.0015963257,
          "index": 78
         },
         {
          "feature": "mean",
          "importance": 0.0015916494,
          "index": 271
         },
         {
          "feature": "entertaining",
          "importance": 0.0015703792,
          "index": 120
         },
         {
          "feature": "low",
          "importance": 0.0015675609,
          "index": 261
         },
         {
          "feature": "flick",
          "importance": 0.0015657623,
          "index": 155
         },
         {
          "feature": "goes",
          "importance": 0.0015646884,
          "index": 170
         },
         {
          "feature": "kind",
          "importance": 0.0015604534,
          "index": 228
         },
         {
          "feature": "family",
          "importance": 0.0015451418,
          "index": 136
         },
         {
          "feature": "nice",
          "importance": 0.0015418257,
          "index": 292
         },
         {
          "feature": "thriller",
          "importance": 0.0015373646,
          "index": 429
         },
         {
          "feature": "saw",
          "importance": 0.0015279392,
          "index": 358
         },
         {
          "feature": "liked",
          "importance": 0.0015274794,
          "index": 243
         },
         {
          "feature": "house",
          "importance": 0.0015237916,
          "index": 204
         },
         {
          "feature": "away",
          "importance": 0.0015215847,
          "index": 24
         },
         {
          "feature": "point",
          "importance": 0.0015163943,
          "index": 323
         },
         {
          "feature": "shot",
          "importance": 0.0015147297,
          "index": 380
         },
         {
          "feature": "ending",
          "importance": 0.0015014565,
          "index": 116
         },
         {
          "feature": "long",
          "importance": 0.0014856917,
          "index": 252
         },
         {
          "feature": "based",
          "importance": 0.0014840859,
          "index": 28
         },
         {
          "feature": "face",
          "importance": 0.001481026,
          "index": 134
         },
         {
          "feature": "rest",
          "importance": 0.0014728199,
          "index": 344
         },
         {
          "feature": "takes",
          "importance": 0.0014700165,
          "index": 419
         },
         {
          "feature": "simply",
          "importance": 0.0014665342,
          "index": 386
         },
         {
          "feature": "probably",
          "importance": 0.0014608402,
          "index": 329
         },
         {
          "feature": "set",
          "importance": 0.0014538577,
          "index": 376
         },
         {
          "feature": "screen",
          "importance": 0.0014519834,
          "index": 367
         },
         {
          "feature": "sort",
          "importance": 0.0014426531,
          "index": 395
         },
         {
          "feature": "woman",
          "importance": 0.0014416742,
          "index": 476
         },
         {
          "feature": "getting",
          "importance": 0.0014397925,
          "index": 164
         },
         {
          "feature": "particularly",
          "importance": 0.0014394092,
          "index": 307
         },
         {
          "feature": "couldn t",
          "importance": 0.0014290081,
          "index": 76
         },
         {
          "feature": "right",
          "importance": 0.0014288227,
          "index": 347
         },
         {
          "feature": "actor",
          "importance": 0.001423648,
          "index": 5
         },
         {
          "feature": "dark",
          "importance": 0.0014231546,
          "index": 83
         },
         {
          "feature": "need",
          "importance": 0.001407537,
          "index": 290
         },
         {
          "feature": "lives",
          "importance": 0.001403678,
          "index": 248
         },
         {
          "feature": "thinking",
          "importance": 0.0013952488,
          "index": 427
         },
         {
          "feature": "sure",
          "importance": 0.0013938189,
          "index": 413
         },
         {
          "feature": "american",
          "importance": 0.0013897452,
          "index": 13
         },
         {
          "feature": "short",
          "importance": 0.0013849748,
          "index": 379
         },
         {
          "feature": "recommend",
          "importance": 0.0013787553,
          "index": 340
         },
         {
          "feature": "drama",
          "importance": 0.0013784677,
          "index": 110
         },
         {
          "feature": "yes",
          "importance": 0.0013742305,
          "index": 498
         },
         {
          "feature": "main",
          "importance": 0.0013714893,
          "index": 263
         },
         {
          "feature": "music",
          "importance": 0.0013686112,
          "index": 287
         },
         {
          "feature": "feel",
          "importance": 0.0013567403,
          "index": 143
         },
         {
          "feature": "tell",
          "importance": 0.0013550303,
          "index": 422
         },
         {
          "feature": "enjoy",
          "importance": 0.0013540622,
          "index": 118
         },
         {
          "feature": "high",
          "importance": 0.0013449213,
          "index": 192
         },
         {
          "feature": "believe",
          "importance": 0.0013446654,
          "index": 32
         },
         {
          "feature": "father",
          "importance": 0.0013404327,
          "index": 141
         },
         {
          "feature": "title",
          "importance": 0.0013370166,
          "index": 432
         },
         {
          "feature": "sense",
          "importance": 0.0013323184,
          "index": 373
         },
         {
          "feature": "used",
          "importance": 0.0013204755,
          "index": 450
         },
         {
          "feature": "men",
          "importance": 0.0013132764,
          "index": 272
         },
         {
          "feature": "episode",
          "importance": 0.0013107214,
          "index": 123
         },
         {
          "feature": "moments",
          "importance": 0.0012899579,
          "index": 279
         },
         {
          "feature": "year",
          "importance": 0.0012880944,
          "index": 495
         },
         {
          "feature": "hollywood",
          "importance": 0.00128663,
          "index": 197
         },
         {
          "feature": "fans",
          "importance": 0.0012858974,
          "index": 138
         },
         {
          "feature": "review",
          "importance": 0.0012820748,
          "index": 345
         },
         {
          "feature": "wasn t",
          "importance": 0.0012801647,
          "index": 466
         },
         {
          "feature": "cast",
          "importance": 0.0012793463,
          "index": 52
         },
         {
          "feature": "play",
          "importance": 0.0012782233,
          "index": 318
         },
         {
          "feature": "came",
          "importance": 0.0012693109,
          "index": 47
         },
         {
          "feature": "apparently",
          "importance": 0.0012637643,
          "index": 16
         },
         {
          "feature": "certainly",
          "importance": 0.0012577613,
          "index": 54
         },
         {
          "feature": "having",
          "importance": 0.0012572981,
          "index": 185
         },
         {
          "feature": "huge",
          "importance": 0.0012490101,
          "index": 205
         },
         {
          "feature": "gave",
          "importance": 0.0012386417,
          "index": 161
         },
         {
          "feature": "live",
          "importance": 0.0012382943,
          "index": 247
         },
         {
          "feature": "crap",
          "importance": 0.0012380159,
          "index": 80
         },
         {
          "feature": "star",
          "importance": 0.001237941,
          "index": 399
         },
         {
          "feature": "dead",
          "importance": 0.0012357328,
          "index": 88
         },
         {
          "feature": "day",
          "importance": 0.0012333353,
          "index": 86
         },
         {
          "feature": "heart",
          "importance": 0.001232833,
          "index": 188
         },
         {
          "feature": "disappointed",
          "importance": 0.0012311768,
          "index": 102
         },
         {
          "feature": "dialogue",
          "importance": 0.0012229611,
          "index": 94
         },
         {
          "feature": "finally",
          "importance": 0.0012174896,
          "index": 152
         },
         {
          "feature": "doing",
          "importance": 0.0012159757,
          "index": 107
         },
         {
          "feature": "boy",
          "importance": 0.0012159728,
          "index": 41
         },
         {
          "feature": "cinema",
          "importance": 0.0012150936,
          "index": 62
         },
         {
          "feature": "small",
          "importance": 0.0012131756,
          "index": 389
         },
         {
          "feature": "remember",
          "importance": 0.0012108814,
          "index": 343
         },
         {
          "feature": "seeing",
          "importance": 0.0012064249,
          "index": 370
         },
         {
          "feature": "production",
          "importance": 0.0011978959,
          "index": 331
         },
         {
          "feature": "course",
          "importance": 0.0011935174,
          "index": 79
         },
         {
          "feature": "usual",
          "importance": 0.0011933062,
          "index": 451
         },
         {
          "feature": "final",
          "importance": 0.0011923673,
          "index": 151
         },
         {
          "feature": "despite",
          "importance": 0.0011904495,
          "index": 92
         },
         {
          "feature": "relationship",
          "importance": 0.0011900431,
          "index": 341
         },
         {
          "feature": "later",
          "importance": 0.0011896782,
          "index": 234
         },
         {
          "feature": "use",
          "importance": 0.0011877938,
          "index": 449
         },
         {
          "feature": "ve seen",
          "importance": 0.0011875736,
          "index": 454
         },
         {
          "feature": "run",
          "importance": 0.0011773011,
          "index": 352
         },
         {
          "feature": "early",
          "importance": 0.0011754988,
          "index": 112
         },
         {
          "feature": "said",
          "importance": 0.0011737231,
          "index": 356
         },
         {
          "feature": "past",
          "importance": 0.0011728964,
          "index": 309
         },
         {
          "feature": "extremely",
          "importance": 0.0011687696,
          "index": 132
         },
         {
          "feature": "s just",
          "importance": 0.001167069,
          "index": 355
         },
         {
          "feature": "head",
          "importance": 0.0011645203,
          "index": 186
         },
         {
          "feature": "works",
          "importance": 0.0011474363,
          "index": 484
         },
         {
          "feature": "night",
          "importance": 0.0011461426,
          "index": 293
         },
         {
          "feature": "parts",
          "importance": 0.0011423684,
          "index": 308
         },
         {
          "feature": "direction",
          "importance": 0.0011418221,
          "index": 100
         },
         {
          "feature": "book",
          "importance": 0.0011416213,
          "index": 39
         },
         {
          "feature": "matter",
          "importance": 0.0011352654,
          "index": 269
         },
         {
          "feature": "shots",
          "importance": 0.0011326496,
          "index": 381
         },
         {
          "feature": "help",
          "importance": 0.0011321013,
          "index": 190
         },
         {
          "feature": "mind",
          "importance": 0.0011258369,
          "index": 276
         },
         {
          "feature": "war",
          "importance": 0.0011253367,
          "index": 464
         },
         {
          "feature": "looked",
          "importance": 0.0011250429,
          "index": 254
         },
         {
          "feature": "art",
          "importance": 0.0011192805,
          "index": 19
         },
         {
          "feature": "stop",
          "importance": 0.0011138046,
          "index": 404
         },
         {
          "feature": "sound",
          "importance": 0.0011076468,
          "index": 396
         },
         {
          "feature": "read",
          "importance": 0.0011060895,
          "index": 335
         },
         {
          "feature": "straight",
          "importance": 0.0011047544,
          "index": 407
         },
         {
          "feature": "expect",
          "importance": 0.0010974872,
          "index": 130
         },
         {
          "feature": "actress",
          "importance": 0.0010949812,
          "index": 7
         },
         {
          "feature": "start",
          "importance": 0.0010943057,
          "index": 401
         },
         {
          "feature": "went",
          "importance": 0.001094269,
          "index": 472
         },
         {
          "feature": "jokes",
          "importance": 0.0010942153,
          "index": 221
         },
         {
          "feature": "able",
          "importance": 0.0010927598,
          "index": 0
         },
         {
          "feature": "b",
          "importance": 0.0010913779,
          "index": 26
         },
         {
          "feature": "hope",
          "importance": 0.0010880191,
          "index": 199
         },
         {
          "feature": "stars",
          "importance": 0.0010827516,
          "index": 400
         },
         {
          "feature": "special",
          "importance": 0.0010729891,
          "index": 397
         },
         {
          "feature": "guess",
          "importance": 0.0010694705,
          "index": 176
         },
         {
          "feature": "given",
          "importance": 0.0010689167,
          "index": 167
         },
         {
          "feature": "wife",
          "importance": 0.0010663982,
          "index": 474
         },
         {
          "feature": "overall",
          "importance": 0.0010627969,
          "index": 306
         },
         {
          "feature": "wanted",
          "importance": 0.0010621032,
          "index": 462
         },
         {
          "feature": "says",
          "importance": 0.0010591111,
          "index": 361
         },
         {
          "feature": "husband",
          "importance": 0.0010430205,
          "index": 208
         },
         {
          "feature": "guys",
          "importance": 0.0010405645,
          "index": 178
         },
         {
          "feature": "roles",
          "importance": 0.0010397715,
          "index": 350
         },
         {
          "feature": "sets",
          "importance": 0.0010391253,
          "index": 377
         },
         {
          "feature": "written",
          "importance": 0.0010382279,
          "index": 493
         },
         {
          "feature": "classic",
          "importance": 0.0010211097,
          "index": 65
         },
         {
          "feature": "home",
          "importance": 0.0010178289,
          "index": 198
         },
         {
          "feature": "humor",
          "importance": 0.0010146976,
          "index": 207
         },
         {
          "feature": "lost",
          "importance": 0.0010132654,
          "index": 257
         },
         {
          "feature": "directed",
          "importance": 0.0010090064,
          "index": 99
         },
         {
          "feature": "laugh",
          "importance": 0.0010089968,
          "index": 235
         },
         {
          "feature": "case",
          "importance": 0.0010066973,
          "index": 51
         },
         {
          "feature": "turn",
          "importance": 0.0010041147,
          "index": 443
         },
         {
          "feature": "john",
          "importance": 0.0010040227,
          "index": 220
         },
         {
          "feature": "audience",
          "importance": 0.0010028639,
          "index": 22
         },
         {
          "feature": "friend",
          "importance": 0.0009938019,
          "index": 156
         },
         {
          "feature": "human",
          "importance": 0.0009930329,
          "index": 206
         },
         {
          "feature": "cinematography",
          "importance": 0.0009924553,
          "index": 63
         },
         {
          "feature": "fast",
          "importance": 0.0009913355,
          "index": 140
         },
         {
          "feature": "understand",
          "importance": 0.000991223,
          "index": 447
         },
         {
          "feature": "close",
          "importance": 0.0009883423,
          "index": 66
         },
         {
          "feature": "starts",
          "importance": 0.000988076,
          "index": 403
         },
         {
          "feature": "told",
          "importance": 0.0009872254,
          "index": 434
         },
         {
          "feature": "michael",
          "importance": 0.0009634281,
          "index": 274
         },
         {
          "feature": "city",
          "importance": 0.0009606056,
          "index": 64
         },
         {
          "feature": "style",
          "importance": 0.0009594317,
          "index": 411
         },
         {
          "feature": "shown",
          "importance": 0.0009588624,
          "index": 382
         },
         {
          "feature": "self",
          "importance": 0.0009584511,
          "index": 372
         },
         {
          "feature": "son",
          "importance": 0.0009581974,
          "index": 391
         },
         {
          "feature": "video",
          "importance": 0.0009534311,
          "index": 456
         },
         {
          "feature": "chance",
          "importance": 0.0009474913,
          "index": 55
         },
         {
          "feature": "writing",
          "importance": 0.0009440136,
          "index": 492
         },
         {
          "feature": "view",
          "importance": 0.0009410211,
          "index": 457
         },
         {
          "feature": "cut",
          "importance": 0.0009300142,
          "index": 81
         },
         {
          "feature": "care",
          "importance": 0.0009230501,
          "index": 50
         },
         {
          "feature": "friends",
          "importance": 0.0009196296,
          "index": 157
         },
         {
          "feature": "called",
          "importance": 0.0009144804,
          "index": 46
         },
         {
          "feature": "heard",
          "importance": 0.0009117488,
          "index": 187
         },
         {
          "feature": "rating",
          "importance": 0.0009112766,
          "index": 334
         },
         {
          "feature": "running",
          "importance": 0.0009069489,
          "index": 353
         },
         {
          "feature": "try",
          "importance": 0.0009043801,
          "index": 441
         },
         {
          "feature": "happens",
          "importance": 0.0009018842,
          "index": 183
         },
         {
          "feature": "soon",
          "importance": 0.0008983765,
          "index": 394
         },
         {
          "feature": "song",
          "importance": 0.0008959715,
          "index": 392
         },
         {
          "feature": "absolutely",
          "importance": 0.0008955142,
          "index": 1
         },
         {
          "feature": "hilarious",
          "importance": 0.00089545,
          "index": 194
         },
         {
          "feature": "black",
          "importance": 0.0008948484,
          "index": 37
         },
         {
          "feature": "effort",
          "importance": 0.000892066,
          "index": 114
         },
         {
          "feature": "beginning",
          "importance": 0.0008886916,
          "index": 31
         },
         {
          "feature": "complete",
          "importance": 0.0008866227,
          "index": 72
         },
         {
          "feature": "type",
          "importance": 0.0008812281,
          "index": 446
         },
         {
          "feature": "t know",
          "importance": 0.0008804511,
          "index": 416
         },
         {
          "feature": "wasn",
          "importance": 0.000879627,
          "index": 465
         },
         {
          "feature": "gives",
          "importance": 0.0008790164,
          "index": 168
         },
         {
          "feature": "death",
          "importance": 0.0008778461,
          "index": 89
         },
         {
          "feature": "truly",
          "importance": 0.0008751432,
          "index": 440
         },
         {
          "feature": "documentary",
          "importance": 0.00087403,
          "index": 103
         },
         {
          "feature": "totally",
          "importance": 0.0008730427,
          "index": 436
         },
         {
          "feature": "attention",
          "importance": 0.0008703871,
          "index": 21
         },
         {
          "feature": "exactly",
          "importance": 0.0008578832,
          "index": 127
         },
         {
          "feature": "hell",
          "importance": 0.0008575005,
          "index": 189
         },
         {
          "feature": "year old",
          "importance": 0.0008562401,
          "index": 496
         },
         {
          "feature": "playing",
          "importance": 0.0008509523,
          "index": 320
         },
         {
          "feature": "film s",
          "importance": 0.0008476577,
          "index": 149
         },
         {
          "feature": "won",
          "importance": 0.0008443051,
          "index": 478
         },
         {
          "feature": "special effects",
          "importance": 0.0008379115,
          "index": 398
         },
         {
          "feature": "tries",
          "importance": 0.0008376749,
          "index": 438
         },
         {
          "feature": "comic",
          "importance": 0.0008358036,
          "index": 70
         },
         {
          "feature": "children",
          "importance": 0.0008351182,
          "index": 61
         },
         {
          "feature": "version",
          "importance": 0.0008325381,
          "index": 455
         },
         {
          "feature": "school",
          "importance": 0.0008269821,
          "index": 365
         },
         {
          "feature": "won t",
          "importance": 0.000824267,
          "index": 479
         },
         {
          "feature": "turns",
          "importance": 0.0008236335,
          "index": 444
         },
         {
          "feature": "female",
          "importance": 0.0008178844,
          "index": 146
         },
         {
          "feature": "group",
          "importance": 0.0008132495,
          "index": 175
         },
         {
          "feature": "country",
          "importance": 0.0008098991,
          "index": 77
         },
         {
          "feature": "known",
          "importance": 0.0008098652,
          "index": 231
         },
         {
          "feature": "example",
          "importance": 0.0008078197,
          "index": 128
         },
         {
          "feature": "involved",
          "importance": 0.0008051826,
          "index": 214
         },
         {
          "feature": "act",
          "importance": 0.0008011672,
          "index": 2
         },
         {
          "feature": "coming",
          "importance": 0.0007995824,
          "index": 71
         },
         {
          "feature": "add",
          "importance": 0.0007993276,
          "index": 9
         },
         {
          "feature": "cool",
          "importance": 0.0007991216,
          "index": 74
         },
         {
          "feature": "musical",
          "importance": 0.0007915119,
          "index": 288
         },
         {
          "feature": "james",
          "importance": 0.0007914926,
          "index": 218
         },
         {
          "feature": "felt",
          "importance": 0.0007881912,
          "index": 145
         },
         {
          "feature": "took",
          "importance": 0.0007855808,
          "index": 435
         },
         {
          "feature": "kill",
          "importance": 0.0007794171,
          "index": 225
         },
         {
          "feature": "lead",
          "importance": 0.0007738658,
          "index": 236
         },
         {
          "feature": "ago",
          "importance": 0.000773781,
          "index": 11
         },
         {
          "feature": "fine",
          "importance": 0.0007730575,
          "index": 154
         },
         {
          "feature": "history",
          "importance": 0.0007677118,
          "index": 195
         },
         {
          "feature": "basically",
          "importance": 0.0007674179,
          "index": 29
         },
         {
          "feature": "including",
          "importance": 0.000766177,
          "index": 211
         },
         {
          "feature": "robert",
          "importance": 0.0007644467,
          "index": 348
         },
         {
          "feature": "talking",
          "importance": 0.0007642088,
          "index": 421
         },
         {
          "feature": "evil",
          "importance": 0.0007608482,
          "index": 126
         },
         {
          "feature": "wonder",
          "importance": 0.0007576462,
          "index": 480
         },
         {
          "feature": "lack",
          "importance": 0.00075632,
          "index": 232
         },
         {
          "feature": "white",
          "importance": 0.0007561208,
          "index": 473
         },
         {
          "feature": "stuff",
          "importance": 0.0007533121,
          "index": 409
         },
         {
          "feature": "picture",
          "importance": 0.0007529004,
          "index": 315
         },
         {
          "feature": "god",
          "importance": 0.0007527551,
          "index": 169
         },
         {
          "feature": "car",
          "importance": 0.0007524565,
          "index": 49
         },
         {
          "feature": "light",
          "importance": 0.0007489708,
          "index": 241
         },
         {
          "feature": "major",
          "importance": 0.0007480425,
          "index": 264
         },
         {
          "feature": "hand",
          "importance": 0.0007437826,
          "index": 180
         },
         {
          "feature": "dialog",
          "importance": 0.0007437824,
          "index": 93
         },
         {
          "feature": "feeling",
          "importance": 0.000739933,
          "index": 144
         },
         {
          "feature": "non",
          "importance": 0.0007377914,
          "index": 294
         },
         {
          "feature": "david",
          "importance": 0.0007353737,
          "index": 85
         },
         {
          "feature": "hit",
          "importance": 0.0007326757,
          "index": 196
         },
         {
          "feature": "jack",
          "importance": 0.0007323989,
          "index": 217
         },
         {
          "feature": "message",
          "importance": 0.0007289577,
          "index": 273
         },
         {
          "feature": "opinion",
          "importance": 0.0007254071,
          "index": 303
         },
         {
          "feature": "brother",
          "importance": 0.0007239508,
          "index": 44
         },
         {
          "feature": "person",
          "importance": 0.0007224813,
          "index": 314
         },
         {
          "feature": "town",
          "importance": 0.0007215298,
          "index": 437
         },
         {
          "feature": "english",
          "importance": 0.0007179964,
          "index": 117
         },
         {
          "feature": "silly",
          "importance": 0.0007174722,
          "index": 384
         },
         {
          "feature": "change",
          "importance": 0.0007118802,
          "index": 56
         },
         {
          "feature": "daughter",
          "importance": 0.0007118663,
          "index": 84
         },
         {
          "feature": "quality",
          "importance": 0.0007109731,
          "index": 332
         },
         {
          "feature": "hours",
          "importance": 0.0007090232,
          "index": 203
         },
         {
          "feature": "eyes",
          "importance": 0.0006993075,
          "index": 133
         },
         {
          "feature": "happen",
          "importance": 0.0006967938,
          "index": 181
         },
         {
          "feature": "mother",
          "importance": 0.000696205,
          "index": 281
         },
         {
          "feature": "wish",
          "importance": 0.0006927377,
          "index": 475
         },
         {
          "feature": "o",
          "importance": 0.0006922857,
          "index": 296
         },
         {
          "feature": "genre",
          "importance": 0.0006893584,
          "index": 162
         },
         {
          "feature": "somewhat",
          "importance": 0.0006875807,
          "index": 390
         },
         {
          "feature": "experience",
          "importance": 0.0006875801,
          "index": 131
         },
         {
          "feature": "kids",
          "importance": 0.0006795383,
          "index": 224
         },
         {
          "feature": "hero",
          "importance": 0.0006750993,
          "index": 191
         },
         {
          "feature": "wouldn t",
          "importance": 0.0006727017,
          "index": 490
         },
         {
          "feature": "fight",
          "importance": 0.0006722208,
          "index": 147
         },
         {
          "feature": "certain",
          "importance": 0.0006709025,
          "index": 53
         },
         {
          "feature": "score",
          "importance": 0.0006665885,
          "index": 366
         },
         {
          "feature": "kid",
          "importance": 0.0006637571,
          "index": 223
         },
         {
          "feature": "police",
          "importance": 0.0006632939,
          "index": 324
         },
         {
          "feature": "songs",
          "importance": 0.000660373,
          "index": 393
         },
         {
          "feature": "happened",
          "importance": 0.0006580083,
          "index": 182
         },
         {
          "feature": "t think",
          "importance": 0.0006514182,
          "index": 417
         },
         {
          "feature": "camera",
          "importance": 0.0006486023,
          "index": 48
         },
         {
          "feature": "wants",
          "importance": 0.0006414049,
          "index": 463
         },
         {
          "feature": "reality",
          "importance": 0.0006370545,
          "index": 337
         },
         {
          "feature": "single",
          "importance": 0.0006368402,
          "index": 387
         },
         {
          "feature": "living",
          "importance": 0.000636005,
          "index": 249
         },
         {
          "feature": "writer",
          "importance": 0.0006316803,
          "index": 491
         },
         {
          "feature": "british",
          "importance": 0.000630178,
          "index": 43
         },
         {
          "feature": "animation",
          "importance": 0.0006266694,
          "index": 14
         },
         {
          "feature": "usually",
          "importance": 0.0006253852,
          "index": 452
         },
         {
          "feature": "girls",
          "importance": 0.0006217253,
          "index": 166
         },
         {
          "feature": "seriously",
          "importance": 0.0006181346,
          "index": 375
         },
         {
          "feature": "entertainment",
          "importance": 0.0006157905,
          "index": 121
         },
         {
          "feature": "order",
          "importance": 0.0006150025,
          "index": 304
         },
         {
          "feature": "days",
          "importance": 0.000606859,
          "index": 87
         },
         {
          "feature": "wouldn",
          "importance": 0.0006052275,
          "index": 489
         },
         {
          "feature": "near",
          "importance": 0.0006048528,
          "index": 289
         },
         {
          "feature": "possible",
          "importance": 0.0006027745,
          "index": 326
         },
         {
          "feature": "released",
          "importance": 0.000596867,
          "index": 342
         },
         {
          "feature": "age",
          "importance": 0.0005967789,
          "index": 10
         },
         {
          "feature": "entire",
          "importance": 0.0005950288,
          "index": 122
         },
         {
          "feature": "aren t",
          "importance": 0.0005921913,
          "index": 18
         },
         {
          "feature": "leave",
          "importance": 0.0005913843,
          "index": 237
         },
         {
          "feature": "blood",
          "importance": 0.0005896107,
          "index": 38
         },
         {
          "feature": "moment",
          "importance": 0.0005887785,
          "index": 278
         },
         {
          "feature": "mr",
          "importance": 0.0005885854,
          "index": 285
         },
         {
          "feature": "child",
          "importance": 0.0005811833,
          "index": 60
         },
         {
          "feature": "novel",
          "importance": 0.0005733739,
          "index": 295
         },
         {
          "feature": "suspense",
          "importance": 0.00057224,
          "index": 414
         },
         {
          "feature": "scary",
          "importance": 0.0005695904,
          "index": 362
         },
         {
          "feature": "violence",
          "importance": 0.0005691113,
          "index": 459
         },
         {
          "feature": "simple",
          "importance": 0.0005616591,
          "index": 385
         },
         {
          "feature": "local",
          "importance": 0.0005593385,
          "index": 251
         },
         {
          "feature": "late",
          "importance": 0.0005556708,
          "index": 233
         },
         {
          "feature": "saying",
          "importance": 0.0005481057,
          "index": 360
         },
         {
          "feature": "stories",
          "importance": 0.0005479786,
          "index": 405
         },
         {
          "feature": "viewer",
          "importance": 0.000527465,
          "index": 458
         },
         {
          "feature": "voice",
          "importance": 0.0005067725,
          "index": 460
         },
         {
          "feature": "murder",
          "importance": 0.0005023936,
          "index": 286
         },
         {
          "feature": "knew",
          "importance": 0.0005013585,
          "index": 229
         },
         {
          "feature": "power",
          "importance": 0.0004851488,
          "index": 327
         },
         {
          "feature": "episodes",
          "importance": 0.0004817706,
          "index": 124
         },
         {
          "feature": "taken",
          "importance": 0.0004651551,
          "index": 418
         },
         {
          "feature": "room",
          "importance": 0.0004582408,
          "index": 351
         },
         {
          "feature": "finds",
          "importance": 0.0004579716,
          "index": 153
         },
         {
          "feature": "middle",
          "importance": 0.0004382013,
          "index": 275
         },
         {
          "feature": "talent",
          "importance": 0.0004163695,
          "index": 420
         },
         {
          "feature": "words",
          "importance": 0.0004112695,
          "index": 482
         },
         {
          "feature": "game",
          "importance": 0.0003853775,
          "index": 160
         },
         {
          "feature": "aren",
          "importance": 0.0003739642,
          "index": 17
         },
         {
          "feature": "opening",
          "importance": 0.0003587039,
          "index": 302
         }
        ],
        "schema": {
         "fields": [
          {
           "name": "index",
           "type": "integer"
          },
          {
           "name": "feature",
           "type": "string"
          },
          {
           "name": "importance",
           "type": "number"
          }
         ],
         "pandas_version": "1.4.0",
         "primaryKey": [
          "index"
         ]
        }
       },
       "total_rows": 503,
       "truncation_type": null
      },
      "text/html": [
       "<div>\n",
       "<style scoped>\n",
       "    .dataframe tbody tr th:only-of-type {\n",
       "        vertical-align: middle;\n",
       "    }\n",
       "\n",
       "    .dataframe tbody tr th {\n",
       "        vertical-align: top;\n",
       "    }\n",
       "\n",
       "    .dataframe thead th {\n",
       "        text-align: right;\n",
       "    }\n",
       "</style>\n",
       "<table border=\"1\" class=\"dataframe\">\n",
       "  <thead>\n",
       "    <tr style=\"text-align: right;\">\n",
       "      <th></th>\n",
       "      <th>feature</th>\n",
       "      <th>importance</th>\n",
       "    </tr>\n",
       "  </thead>\n",
       "  <tbody>\n",
       "    <tr>\n",
       "      <th>27</th>\n",
       "      <td>bad</td>\n",
       "      <td>0.045045</td>\n",
       "    </tr>\n",
       "    <tr>\n",
       "      <th>487</th>\n",
       "      <td>worst</td>\n",
       "      <td>0.031163</td>\n",
       "    </tr>\n",
       "    <tr>\n",
       "      <th>174</th>\n",
       "      <td>great</td>\n",
       "      <td>0.021562</td>\n",
       "    </tr>\n",
       "    <tr>\n",
       "      <th>415</th>\n",
       "      <td>t</td>\n",
       "      <td>0.016111</td>\n",
       "    </tr>\n",
       "    <tr>\n",
       "      <th>25</th>\n",
       "      <td>awful</td>\n",
       "      <td>0.015166</td>\n",
       "    </tr>\n",
       "    <tr>\n",
       "      <th>...</th>\n",
       "      <td>...</td>\n",
       "      <td>...</td>\n",
       "    </tr>\n",
       "    <tr>\n",
       "      <th>420</th>\n",
       "      <td>talent</td>\n",
       "      <td>0.000416</td>\n",
       "    </tr>\n",
       "    <tr>\n",
       "      <th>482</th>\n",
       "      <td>words</td>\n",
       "      <td>0.000411</td>\n",
       "    </tr>\n",
       "    <tr>\n",
       "      <th>160</th>\n",
       "      <td>game</td>\n",
       "      <td>0.000385</td>\n",
       "    </tr>\n",
       "    <tr>\n",
       "      <th>17</th>\n",
       "      <td>aren</td>\n",
       "      <td>0.000374</td>\n",
       "    </tr>\n",
       "    <tr>\n",
       "      <th>302</th>\n",
       "      <td>opening</td>\n",
       "      <td>0.000359</td>\n",
       "    </tr>\n",
       "  </tbody>\n",
       "</table>\n",
       "<p>503 rows × 2 columns</p>\n",
       "</div>"
      ],
      "text/plain": [
       "     feature  importance\n",
       "27       bad    0.045045\n",
       "487    worst    0.031163\n",
       "174    great    0.021562\n",
       "415        t    0.016111\n",
       "25     awful    0.015166\n",
       "..       ...         ...\n",
       "420   talent    0.000416\n",
       "482    words    0.000411\n",
       "160     game    0.000385\n",
       "17      aren    0.000374\n",
       "302  opening    0.000359\n",
       "\n",
       "[503 rows x 2 columns]"
      ]
     },
     "execution_count": 12,
     "metadata": {},
     "output_type": "execute_result"
    }
   ],
   "source": [
    "# Create a DataFrame of the features and their importances\n",
    "pd.DataFrame(\n",
    "\t{\"feature\": X.columns, \"importance\": rf.feature_importances_}\n",
    ").sort_values(by=\"importance\", ascending=False)"
   ]
  }
 ],
 "metadata": {
  "editor": "DataCamp Workspace",
  "kernelspec": {
   "display_name": "Python 3 (ipykernel)",
   "language": "python",
   "name": "python3"
  },
  "language_info": {
   "codemirror_mode": {
    "name": "ipython",
    "version": 3
   },
   "file_extension": ".py",
   "mimetype": "text/x-python",
   "name": "python",
   "nbconvert_exporter": "python",
   "pygments_lexer": "ipython3",
   "version": "3.8.13"
  }
 },
 "nbformat": 4,
 "nbformat_minor": 5
}
